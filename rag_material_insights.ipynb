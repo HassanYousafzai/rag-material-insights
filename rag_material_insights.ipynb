{
 "cells": [
  {
   "cell_type": "code",
   "execution_count": 1,
   "id": "2c614fce-14f1-486b-b59e-e324cabe677a",
   "metadata": {},
   "outputs": [
    {
     "name": "stderr",
     "output_type": "stream",
     "text": [
      "Device set to use cpu\n"
     ]
    },
    {
     "name": "stdout",
     "output_type": "stream",
     "text": [
      "* Running on local URL:  http://127.0.0.1:7868\n",
      "* To create a public link, set `share=True` in `launch()`.\n"
     ]
    },
    {
     "data": {
      "text/html": [
       "<div><iframe src=\"http://127.0.0.1:7868/\" width=\"100%\" height=\"500\" allow=\"autoplay; camera; microphone; clipboard-read; clipboard-write;\" frameborder=\"0\" allowfullscreen></iframe></div>"
      ],
      "text/plain": [
       "<IPython.core.display.HTML object>"
      ]
     },
     "metadata": {},
     "output_type": "display_data"
    },
    {
     "data": {
      "text/plain": []
     },
     "execution_count": 1,
     "metadata": {},
     "output_type": "execute_result"
    }
   ],
   "source": [
    "import gradio as gr\n",
    "from sentence_transformers import SentenceTransformer\n",
    "import numpy as np\n",
    "from sklearn.metrics.pairwise import cosine_similarity\n",
    "from transformers import pipeline\n",
    "import pandas as pd\n",
    "\n",
    "# Load dataset from the provided CSV\n",
    "dataset_path = \"Data.csv\"  # Ensure this file is in the same directory\n",
    "try:\n",
    "    df = pd.read_csv(dataset_path)\n",
    "    # Clean data: remove rows with missing Su (strength) and handle other nulls\n",
    "    df = df.dropna(subset=['Su'])\n",
    "    # Map data to required format\n",
    "    data = [\n",
    "        {\n",
    "            \"density\": float(row[\"Ro\"]) if pd.notnull(row[\"Ro\"]) else 7860.0,  # Default to 7860 for steel if Ro is null\n",
    "            \"thickness\": 1.0,  # Placeholder; adjust if thickness data is added\n",
    "            \"strength\": float(row[\"Su\"]),  # Use ultimate tensile strength (Su) in MPa\n",
    "            \"text\": f\"Material: {row['Material']}, Heat treatment: {row['Heat treatment'] or 'N/A'}, Strength: {row['Su']} MPa, Yield: {row['Sy'] or 'N/A'} MPa, Elongation: {row['A5'] or 'N/A'}%, Hardness (Bhn): {row['Bhn'] or 'N/A'}\"\n",
    "        }\n",
    "        for _, row in df.iterrows() if pd.notnull(row[\"Su\"])\n",
    "    ]\n",
    "    texts = [item[\"text\"] for item in data]\n",
    "    strengths = np.array([item[\"strength\"] for item in data], dtype=np.float32)\n",
    "except Exception as e:\n",
    "    raise Exception(f\"Error loading dataset: {e}\")\n",
    "\n",
    "# Load models\n",
    "try:\n",
    "    encoder = SentenceTransformer('all-MiniLM-L6-v2')\n",
    "    embedding_matrix = encoder.encode(texts)\n",
    "    generator = pipeline(\"text2text-generation\", model=\"google/flan-t5-base\")\n",
    "except Exception as e:\n",
    "    raise Exception(f\"Error loading models: {e}\")\n",
    "\n",
    "# RAG function\n",
    "def rag_qa(query):\n",
    "    try:\n",
    "        if not query or not isinstance(query, str):\n",
    "            return \"Invalid query\", \"\", \"Please enter a valid question.\", \"N/A\"\n",
    "        \n",
    "        query_embedding = encoder.encode([query])\n",
    "        scores = cosine_similarity(query_embedding, embedding_matrix)[0]\n",
    "        best_idx = np.argmax(scores)\n",
    "        context = texts[best_idx]\n",
    "        prompt = f\"Context: {context}\\nAnswer the question: {query} with the strength value in MPa.\"\n",
    "        response = generator(prompt, max_new_tokens=50, do_sample=False)[0]['generated_text']\n",
    "        predicted_strength = strengths[best_idx]\n",
    "        return query, context, response.strip(), f\"{predicted_strength:.2f}\"\n",
    "    except Exception as e:\n",
    "        return query, \"\", f\"Error: {e}\", \"N/A\"\n",
    "\n",
    "# Gradio UI\n",
    "demo = gr.Interface(\n",
    "    fn=rag_qa,\n",
    "    inputs=gr.Textbox(label=\"Ask about material strength\", placeholder=\"e.g., What is the strength of Steel SAE 1040 normalized?\"),\n",
    "    outputs=[\n",
    "        gr.Textbox(label=\"Query\", interactive=False),\n",
    "        gr.Textbox(label=\"Retrieved Context\", interactive=False),\n",
    "        gr.Textbox(label=\"Model Answer\", interactive=False),\n",
    "        gr.Textbox(label=\"Predicted Strength (MPa)\", interactive=False)\n",
    "    ],\n",
    "    title=\"RAG-powered Material Insight Tool\",\n",
    "    description=\"Ask about material strength given material type and heat treatment. Uses semantic retrieval and generation. Dataset from Data.csv.\",\n",
    "    examples=[\n",
    "        [\"What is the strength of Steel SAE 1040 normalized?\"],\n",
    "        [\"What is the yield strength of Steel SAE 1050 annealed?\"]\n",
    "    ]\n",
    ")\n",
    "\n",
    "demo.launch(inline=True)"
   ]
  },
  {
   "cell_type": "code",
   "execution_count": null,
   "id": "6358e4da-aacb-4a36-b30f-0e12bba6b854",
   "metadata": {},
   "outputs": [],
   "source": []
  }
 ],
 "metadata": {
  "kernelspec": {
   "display_name": "Python 3 (ipykernel)",
   "language": "python",
   "name": "python3"
  },
  "language_info": {
   "codemirror_mode": {
    "name": "ipython",
    "version": 3
   },
   "file_extension": ".py",
   "mimetype": "text/x-python",
   "name": "python",
   "nbconvert_exporter": "python",
   "pygments_lexer": "ipython3",
   "version": "3.13.2"
  }
 },
 "nbformat": 4,
 "nbformat_minor": 5
}
